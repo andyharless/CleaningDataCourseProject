{
  "nbformat": 4,
  "nbformat_minor": 0,
  "metadata": {
    "colab": {
      "name": "twitgen_usel_best_show_performance.ipynb",
      "version": "0.3.2",
      "provenance": [],
      "collapsed_sections": [],
      "include_colab_link": true
    },
    "language_info": {
      "codemirror_mode": {
        "name": "ipython",
        "version": 3
      },
      "file_extension": ".py",
      "mimetype": "text/x-python",
      "name": "python",
      "nbconvert_exporter": "python",
      "pygments_lexer": "ipython3",
      "version": "3.6.7"
    },
    "kernelspec": {
      "name": "python3",
      "display_name": "Python 3"
    },
    "accelerator": "GPU"
  },
  "cells": [
    {
      "cell_type": "markdown",
      "metadata": {
        "id": "view-in-github",
        "colab_type": "text"
      },
      "source": [
        "<a href=\"https://colab.research.google.com/github/andyharless/CleaningDataCourseProject/blob/master/twitgen_usel_best_show_performance.ipynb\" target=\"_parent\"><img src=\"https://colab.research.google.com/assets/colab-badge.svg\" alt=\"Open In Colab\"/></a>"
      ]
    },
    {
      "cell_type": "code",
      "metadata": {
        "id": "IcV34L1AIQ-6",
        "colab_type": "code",
        "colab": {}
      },
      "source": [
        "do_mount=False\n",
        "if do_mount:\n",
        "  from google.colab import drive\n",
        "  drive.mount('/content/gdrive')\n",
        "  !pip install \"tensorflow-gpu==1.13.1\""
      ],
      "execution_count": 0,
      "outputs": []
    },
    {
      "cell_type": "code",
      "metadata": {
        "id": "qnUyilG-lMEF",
        "colab_type": "code",
        "colab": {}
      },
      "source": [
        "do_compare_preds = True\n",
        "do_save_embeddings = True\n",
        "do_save_model = True\n",
        "do_predict_test = True\n",
        "\n",
        "TRAIN_INPUT = 'twitgen_train_201906011956.csv'\n",
        "VALID_INPUT = 'twitgen_valid_201906011956.csv'\n",
        "TEST_INPUT = 'twitgen_test_201906011956.csv'\n",
        "EMBEDDING_DIM = 512"
      ],
      "execution_count": 0,
      "outputs": []
    },
    {
      "cell_type": "code",
      "metadata": {
        "id": "Q-O7uvDmHVSU",
        "colab_type": "code",
        "colab": {}
      },
      "source": [
        "# Import our dependencies\n",
        "import tensorflow as tf\n",
        "import pandas as pd\n",
        "import tensorflow_hub as hub\n",
        "import os\n",
        "import re\n",
        "import tensorflow.keras.layers as layers\n",
        "import tensorflow.keras.backend as K\n",
        "from tensorflow.keras.models import Model, load_model\n",
        "from tensorflow.keras.layers import Layer\n",
        "from tensorflow.keras.optimizers import Adam, Adagrad\n",
        "from sklearn.metrics import confusion_matrix\n",
        "from sklearn.metrics import accuracy_score\n",
        "from sklearn.metrics import f1_score\n",
        "from sklearn.metrics import roc_curve, auc\n",
        "import numpy as np\n",
        "import matplotlib.pyplot as plt\n",
        "from statsmodels.stats.proportion import proportion_confint\n",
        "from datetime import datetime"
      ],
      "execution_count": 0,
      "outputs": []
    },
    {
      "cell_type": "code",
      "metadata": {
        "id": "CTjRdHaGI2Md",
        "colab_type": "code",
        "colab": {}
      },
      "source": [
        "basepath = '/content/gdrive/My Drive/twitgen/'"
      ],
      "execution_count": 0,
      "outputs": []
    },
    {
      "cell_type": "code",
      "metadata": {
        "id": "j5iFCTZYJ045",
        "colab_type": "code",
        "outputId": "27c095bb-77b9-4e76-d058-d386eaf388d7",
        "colab": {
          "base_uri": "https://localhost:8080/",
          "height": 235
        }
      },
      "source": [
        "df_train = pd.read_csv(basepath+TRAIN_INPUT, index_col=['id','time'], parse_dates=['time'])\n",
        "df_valid = pd.read_csv(basepath+VALID_INPUT, index_col=['id','time'], parse_dates=['time'])\n",
        "df_test = pd.read_csv(basepath+TEST_INPUT, index_col=['id','time'], parse_dates=['time'])\n",
        "df_train.head()"
      ],
      "execution_count": 5,
      "outputs": [
        {
          "output_type": "execute_result",
          "data": {
            "text/html": [
              "<div>\n",
              "<style scoped>\n",
              "    .dataframe tbody tr th:only-of-type {\n",
              "        vertical-align: middle;\n",
              "    }\n",
              "\n",
              "    .dataframe tbody tr th {\n",
              "        vertical-align: top;\n",
              "    }\n",
              "\n",
              "    .dataframe thead th {\n",
              "        text-align: right;\n",
              "    }\n",
              "</style>\n",
              "<table border=\"1\" class=\"dataframe\">\n",
              "  <thead>\n",
              "    <tr style=\"text-align: right;\">\n",
              "      <th></th>\n",
              "      <th></th>\n",
              "      <th>text</th>\n",
              "      <th>male</th>\n",
              "    </tr>\n",
              "    <tr>\n",
              "      <th>id</th>\n",
              "      <th>time</th>\n",
              "      <th></th>\n",
              "      <th></th>\n",
              "    </tr>\n",
              "  </thead>\n",
              "  <tbody>\n",
              "    <tr>\n",
              "      <th>1083596943807393792</th>\n",
              "      <th>2019-05-27 23:27:08+00:00</th>\n",
              "      <td>Ah, the Flat Earth gambit.\\nWell played.</td>\n",
              "      <td>True</td>\n",
              "    </tr>\n",
              "    <tr>\n",
              "      <th>815783987784187904</th>\n",
              "      <th>2019-05-24 15:36:01+00:00</th>\n",
              "      <td>Aw ily</td>\n",
              "      <td>False</td>\n",
              "    </tr>\n",
              "    <tr>\n",
              "      <th>3458239641</th>\n",
              "      <th>2019-05-24 19:00:37+00:00</th>\n",
              "      <td>I hate being sick</td>\n",
              "      <td>False</td>\n",
              "    </tr>\n",
              "    <tr>\n",
              "      <th>1003729876250226688</th>\n",
              "      <th>2019-05-26 12:53:00+00:00</th>\n",
              "      <td>You still didn't' do shit tho. Slow down the...</td>\n",
              "      <td>True</td>\n",
              "    </tr>\n",
              "    <tr>\n",
              "      <th>2360143940</th>\n",
              "      <th>2019-05-28 03:50:46+00:00</th>\n",
              "      <td>Harriet Tubman may not be on the $20 bill... f...</td>\n",
              "      <td>False</td>\n",
              "    </tr>\n",
              "  </tbody>\n",
              "</table>\n",
              "</div>"
            ],
            "text/plain": [
              "                                                                                            text   male\n",
              "id                  time                                                                               \n",
              "1083596943807393792 2019-05-27 23:27:08+00:00           Ah, the Flat Earth gambit.\\nWell played.   True\n",
              "815783987784187904  2019-05-24 15:36:01+00:00                                             Aw ily  False\n",
              "3458239641          2019-05-24 19:00:37+00:00                                  I hate being sick  False\n",
              "1003729876250226688 2019-05-26 12:53:00+00:00    You still didn't' do shit tho. Slow down the...   True\n",
              "2360143940          2019-05-28 03:50:46+00:00  Harriet Tubman may not be on the $20 bill... f...  False"
            ]
          },
          "metadata": {
            "tags": []
          },
          "execution_count": 5
        }
      ]
    },
    {
      "cell_type": "code",
      "metadata": {
        "id": "7uALhDlgHVSk",
        "colab_type": "code",
        "colab": {}
      },
      "source": [
        "# Create datasets (Only take up to 150 words for memory)\n",
        "train_text = df_train['text'].tolist()\n",
        "train_text = [' '.join(t.split()[0:150]) for t in train_text]\n",
        "train_text = np.array(train_text, dtype=object)[:, np.newaxis]\n",
        "train_label = df_train['male'].tolist()\n",
        "\n",
        "valid_text = df_valid['text'].tolist()\n",
        "valid_text = [' '.join(t.split()[0:150]) for t in valid_text]\n",
        "valid_text = np.array(valid_text, dtype=object)[:, np.newaxis]\n",
        "valid_label = df_valid['male'].tolist()"
      ],
      "execution_count": 0,
      "outputs": []
    },
    {
      "cell_type": "code",
      "metadata": {
        "id": "UQ3aiS9aILav",
        "colab_type": "code",
        "colab": {}
      },
      "source": [
        "# Initialize session\n",
        "tf.logging.set_verbosity(tf.logging.ERROR)\n",
        "sess = tf.Session()\n",
        "K.set_session(sess)"
      ],
      "execution_count": 0,
      "outputs": []
    },
    {
      "cell_type": "code",
      "metadata": {
        "id": "msrIKUwkHVSf",
        "colab_type": "code",
        "colab": {}
      },
      "source": [
        "# Create a custom layer that allows us to update weights (lambda layers do not have trainable parameters!)\n",
        "\n",
        "class USEEmbeddingLayer(Layer):\n",
        "    def __init__(self, trainable=True, **kwargs):\n",
        "        self.dimensions = EMBEDDING_DIM\n",
        "        super(USEEmbeddingLayer, self).__init__(**kwargs)\n",
        "        self.trainable=trainable\n",
        "\n",
        "    def build(self, input_shape):\n",
        "        self.use = hub.Module('https://tfhub.dev/google/universal-sentence-encoder-large/3', trainable=True, #self.trainable,\n",
        "                               name=\"{}_module\".format(self.name))\n",
        "        wts = tf.trainable_variables(scope=\".*{}_module/.*\".format(self.name))\n",
        "        wts = [v for v in wts if not (\"SNLI\" in v.name or \"SHARED_RANK_ANSWER\" in v.name)]\n",
        "        if len(wts)>0:\n",
        "          if self.trainable:\n",
        "            self._trainable_weights += wts\n",
        "          else:\n",
        "            self._non_trainable_weights += wts\n",
        "        else:\n",
        "          print('WARNING: No weights in Embedding Layer')\n",
        "        super(USEEmbeddingLayer, self).build(input_shape)\n",
        "\n",
        "   \n",
        "    def call(self, x, mask=None):\n",
        "        result = self.use(tf.squeeze(tf.cast(x, tf.string), axis=1))\n",
        "        return result\n",
        "\n",
        "    def compute_mask(self, inputs, mask=None):\n",
        "        return tf.not_equal(inputs, '--PAD--')\n",
        "\n",
        "    def compute_output_shape(self, input_shape):\n",
        "        return (input_shape[0], self.dimensions)\n"
      ],
      "execution_count": 0,
      "outputs": []
    },
    {
      "cell_type": "code",
      "metadata": {
        "id": "U_XQHdk5HVSh",
        "colab_type": "code",
        "colab": {}
      },
      "source": [
        "# Function to build model\n",
        "def build_model(train_embedding=True, optimizer=Adagrad, lr=.003): \n",
        "  input_text = layers.Input(shape=(1,), dtype=\"string\")\n",
        "  embedding = USEEmbeddingLayer(trainable=train_embedding)(input_text)\n",
        "  dense1 = layers.Dense(512, activation='relu')(embedding)\n",
        "\n",
        "  dropout0 = layers.Dropout(.8)(dense1)\n",
        "  pred = layers.Dense(1, activation='sigmoid')(dropout0)\n",
        "\n",
        "  model = Model(inputs=[input_text], outputs=pred)\n",
        "\n",
        "  model.compile(loss='binary_crossentropy', optimizer=optimizer(lr), metrics=['accuracy'])\n",
        "  model.summary()\n",
        "  \n",
        "  return model"
      ],
      "execution_count": 0,
      "outputs": []
    },
    {
      "cell_type": "code",
      "metadata": {
        "id": "78eTExX1-oK6",
        "colab_type": "code",
        "outputId": "e356760e-7250-4546-c957-911a346bfaea",
        "colab": {
          "base_uri": "https://localhost:8080/",
          "height": 306
        }
      },
      "source": [
        "model = build_model(train_embedding=False)"
      ],
      "execution_count": 10,
      "outputs": [
        {
          "output_type": "stream",
          "text": [
            "_________________________________________________________________\n",
            "Layer (type)                 Output Shape              Param #   \n",
            "=================================================================\n",
            "input_1 (InputLayer)         (None, 1)                 0         \n",
            "_________________________________________________________________\n",
            "use_embedding_layer (USEEmbe (None, 512)               211345728 \n",
            "_________________________________________________________________\n",
            "dense (Dense)                (None, 512)               262656    \n",
            "_________________________________________________________________\n",
            "dropout (Dropout)            (None, 512)               0         \n",
            "_________________________________________________________________\n",
            "dense_1 (Dense)              (None, 1)                 513       \n",
            "=================================================================\n",
            "Total params: 211,608,897\n",
            "Trainable params: 263,169\n",
            "Non-trainable params: 211,345,728\n",
            "_________________________________________________________________\n"
          ],
          "name": "stdout"
        }
      ]
    },
    {
      "cell_type": "code",
      "metadata": {
        "id": "M_yGiv18KrrP",
        "colab_type": "code",
        "colab": {}
      },
      "source": [
        "init = tf.global_variables_initializer()\n",
        "table_init = tf.tables_initializer()\n",
        "sess = tf.Session()\n",
        "sess.run([init, table_init])\n",
        "K.set_session(sess)"
      ],
      "execution_count": 0,
      "outputs": []
    },
    {
      "cell_type": "code",
      "metadata": {
        "id": "6BdLIwtnB_Oo",
        "colab_type": "code",
        "colab": {}
      },
      "source": [
        "lr = .0003\n",
        "model.compile(loss='binary_crossentropy', optimizer=Adam(lr), metrics=['accuracy'])"
      ],
      "execution_count": 0,
      "outputs": []
    },
    {
      "cell_type": "code",
      "metadata": {
        "id": "MhXRetrLHVSm",
        "colab_type": "code",
        "outputId": "5b100f31-363b-44b5-eda6-cfd735ce075e",
        "colab": {
          "base_uri": "https://localhost:8080/",
          "height": 207
        }
      },
      "source": [
        "model.fit(train_text, \n",
        "          train_label,\n",
        "          validation_data=(valid_text, valid_label),\n",
        "          epochs=4 ,\n",
        "          batch_size=128)"
      ],
      "execution_count": 13,
      "outputs": [
        {
          "output_type": "stream",
          "text": [
            "Train on 34146 samples, validate on 10914 samples\n",
            "Epoch 1/4\n",
            "34146/34146 [==============================] - 40s 1ms/sample - loss: 0.6688 - acc: 0.5940 - val_loss: 0.6506 - val_acc: 0.6275\n",
            "Epoch 2/4\n",
            "34146/34146 [==============================] - 37s 1ms/sample - loss: 0.6518 - acc: 0.6143 - val_loss: 0.6450 - val_acc: 0.6235\n",
            "Epoch 3/4\n",
            "34146/34146 [==============================] - 36s 1ms/sample - loss: 0.6475 - acc: 0.6180 - val_loss: 0.6434 - val_acc: 0.6253\n",
            "Epoch 4/4\n",
            "34146/34146 [==============================] - 36s 1ms/sample - loss: 0.6457 - acc: 0.6204 - val_loss: 0.6422 - val_acc: 0.6264\n"
          ],
          "name": "stdout"
        },
        {
          "output_type": "execute_result",
          "data": {
            "text/plain": [
              "<tensorflow.python.keras.callbacks.History at 0x7f542e341d30>"
            ]
          },
          "metadata": {
            "tags": []
          },
          "execution_count": 13
        }
      ]
    },
    {
      "cell_type": "code",
      "metadata": {
        "id": "TP8FcchN7Q7p",
        "colab_type": "code",
        "colab": {}
      },
      "source": [
        "if do_compare_preds:\n",
        "  pre_save_weights = model.get_weights()\n",
        "  pre_save_preds = model.predict(valid_text[0:100]) # predictions before we clear and reload model\n",
        "model.save('USELModel.h5')"
      ],
      "execution_count": 0,
      "outputs": []
    },
    {
      "cell_type": "code",
      "metadata": {
        "scrolled": true,
        "id": "PI2EpQc4HVSp",
        "colab_type": "code",
        "colab": {}
      },
      "source": [
        "model = None\n",
        "sess.close()"
      ],
      "execution_count": 0,
      "outputs": []
    },
    {
      "cell_type": "code",
      "metadata": {
        "id": "nA9lOQzE9a2r",
        "colab_type": "code",
        "outputId": "bf1ad342-e1b2-464d-ae65-7b8bf1ab58d6",
        "colab": {
          "base_uri": "https://localhost:8080/",
          "height": 306
        }
      },
      "source": [
        "sess = tf.Session()\n",
        "K.set_session(sess)\n",
        "model = build_model(train_embedding=True)"
      ],
      "execution_count": 16,
      "outputs": [
        {
          "output_type": "stream",
          "text": [
            "_________________________________________________________________\n",
            "Layer (type)                 Output Shape              Param #   \n",
            "=================================================================\n",
            "input_2 (InputLayer)         (None, 1)                 0         \n",
            "_________________________________________________________________\n",
            "use_embedding_layer_1 (USEEm (None, 512)               211345728 \n",
            "_________________________________________________________________\n",
            "dense_2 (Dense)              (None, 512)               262656    \n",
            "_________________________________________________________________\n",
            "dropout_1 (Dropout)          (None, 512)               0         \n",
            "_________________________________________________________________\n",
            "dense_3 (Dense)              (None, 1)                 513       \n",
            "=================================================================\n",
            "Total params: 211,608,897\n",
            "Trainable params: 211,608,897\n",
            "Non-trainable params: 0\n",
            "_________________________________________________________________\n"
          ],
          "name": "stdout"
        }
      ]
    },
    {
      "cell_type": "code",
      "metadata": {
        "id": "wy4EyLtU63uz",
        "colab_type": "code",
        "outputId": "65e400b7-fab5-4cb1-b59a-1437907c5239",
        "colab": {
          "base_uri": "https://localhost:8080/",
          "height": 34
        }
      },
      "source": [
        "init = tf.global_variables_initializer()\n",
        "table_init = tf.tables_initializer()\n",
        "sess = tf.Session()\n",
        "sess.run([init, table_init])\n",
        "K.set_session(sess)\n",
        "\n",
        "lr = 7e-5\n",
        "model.compile(loss='binary_crossentropy', optimizer=Adam(lr), metrics=['accuracy'])\n",
        "model.load_weights('USELModel.h5')\n",
        "if do_compare_preds:\n",
        "  post_save_weights = model.get_weights()\n",
        "  post_save_preds = model.predict(valid_text[0:100]) # predictions after we clear and reload model\n",
        "  print(all(pre_save_preds == post_save_preds)) # Are they the same?"
      ],
      "execution_count": 17,
      "outputs": [
        {
          "output_type": "stream",
          "text": [
            "True\n"
          ],
          "name": "stdout"
        }
      ]
    },
    {
      "cell_type": "code",
      "metadata": {
        "id": "v1WsGVqGHVSs",
        "colab_type": "code",
        "outputId": "ec316b5d-92fa-424b-9c32-44320b6ba994",
        "colab": {
          "base_uri": "https://localhost:8080/",
          "height": 122
        }
      },
      "source": [
        "model.fit(train_text, \n",
        "          train_label,\n",
        "          validation_data=(valid_text, valid_label),\n",
        "          epochs=1,\n",
        "          batch_size=128)"
      ],
      "execution_count": 18,
      "outputs": [
        {
          "output_type": "stream",
          "text": [
            "Train on 34146 samples, validate on 10914 samples\n"
          ],
          "name": "stdout"
        },
        {
          "output_type": "stream",
          "text": [
            "/usr/local/lib/python3.6/dist-packages/tensorflow/python/ops/gradients_impl.py:110: UserWarning: Converting sparse IndexedSlices to a dense Tensor of unknown shape. This may consume a large amount of memory.\n",
            "  \"Converting sparse IndexedSlices to a dense Tensor of unknown shape. \"\n"
          ],
          "name": "stderr"
        },
        {
          "output_type": "stream",
          "text": [
            "34146/34146 [==============================] - 135s 4ms/sample - loss: 0.6436 - acc: 0.6213 - val_loss: 0.6358 - val_acc: 0.6290\n"
          ],
          "name": "stdout"
        },
        {
          "output_type": "execute_result",
          "data": {
            "text/plain": [
              "<tensorflow.python.keras.callbacks.History at 0x7f542541f710>"
            ]
          },
          "metadata": {
            "tags": []
          },
          "execution_count": 18
        }
      ]
    },
    {
      "cell_type": "code",
      "metadata": {
        "id": "J_WJL0y2K7SK",
        "colab_type": "code",
        "colab": {}
      },
      "source": [
        "if do_save_model or do_save_embeddings:\n",
        "  model.save('USELModel_full.h5')"
      ],
      "execution_count": 0,
      "outputs": []
    },
    {
      "cell_type": "code",
      "metadata": {
        "id": "06O-5UjUOqlv",
        "colab_type": "code",
        "outputId": "7b3bced7-6e3a-45a5-bb22-82178f760cb9",
        "colab": {
          "base_uri": "https://localhost:8080/",
          "height": 306
        }
      },
      "source": [
        "model = None\n",
        "sess.close()\n",
        "\n",
        "if do_save_embeddings:\n",
        "  sess = tf.Session()\n",
        "  K.set_session(sess)\n",
        "  model = build_model(train_embedding=True)\n",
        "\n",
        "  init = tf.global_variables_initializer()\n",
        "  table_init = tf.tables_initializer()\n",
        "  sess = tf.Session()\n",
        "  sess.run([init, table_init])\n",
        "  K.set_session(sess)\n",
        "\n",
        "  lr = 7e-5\n",
        "  model.compile(loss='binary_crossentropy', optimizer=Adam(lr), metrics=['accuracy'])\n",
        "  model.load_weights('USELModel_full.h5')\n",
        "\n",
        "  inp = model.input\n",
        "  embeddings = model.layers[1].output\n",
        "  get_embeddings = K.function([inp],[embeddings])"
      ],
      "execution_count": 20,
      "outputs": [
        {
          "output_type": "stream",
          "text": [
            "_________________________________________________________________\n",
            "Layer (type)                 Output Shape              Param #   \n",
            "=================================================================\n",
            "input_3 (InputLayer)         (None, 1)                 0         \n",
            "_________________________________________________________________\n",
            "use_embedding_layer_2 (USEEm (None, 512)               211345728 \n",
            "_________________________________________________________________\n",
            "dense_4 (Dense)              (None, 512)               262656    \n",
            "_________________________________________________________________\n",
            "dropout_2 (Dropout)          (None, 512)               0         \n",
            "_________________________________________________________________\n",
            "dense_5 (Dense)              (None, 1)                 513       \n",
            "=================================================================\n",
            "Total params: 211,608,897\n",
            "Trainable params: 211,608,897\n",
            "Non-trainable params: 0\n",
            "_________________________________________________________________\n"
          ],
          "name": "stdout"
        }
      ]
    },
    {
      "cell_type": "code",
      "metadata": {
        "id": "WlaDAjgLNfMV",
        "colab_type": "code",
        "colab": {}
      },
      "source": [
        "chunk_size = 2**13\n",
        "timestamp = datetime.now().strftime('%Y%m%d%H%M')"
      ],
      "execution_count": 0,
      "outputs": []
    },
    {
      "cell_type": "code",
      "metadata": {
        "id": "m_pojthwNfXW",
        "colab_type": "code",
        "colab": {}
      },
      "source": [
        "def save_embeddings(df, split, timestamp):\n",
        "\n",
        "  full_len = df.shape[0]\n",
        "  tweet_embeddings = np.empty(shape=[0,EMBEDDING_DIM])\n",
        "\n",
        "  for start in range(0, full_len, chunk_size):\n",
        "    end = min(start+chunk_size, full_len)\n",
        "    embeddings_chunk = get_embeddings([df[['text']].values[start:end]])[0]\n",
        "    tweet_embeddings = np.concatenate([tweet_embeddings, embeddings_chunk])\n",
        "\n",
        "  for i in range(tweet_embeddings.shape[1]):\n",
        "    df['embed'+str(i)] = (tweet_embeddings[:,i]*1e6).astype(int)\n",
        "  \n",
        "  embed_file_name = basepath + 'embed_' + split + '_' + timestamp + '.csv'\n",
        "  df.drop(['text'],axis=1).to_csv(embed_file_name)"
      ],
      "execution_count": 0,
      "outputs": []
    },
    {
      "cell_type": "code",
      "metadata": {
        "id": "uQA76_JrTS_f",
        "colab_type": "code",
        "colab": {}
      },
      "source": [
        "if do_save_embeddings:\n",
        "  save_embeddings(df_train, 'train', timestamp)\n",
        "  save_embeddings(df_valid, 'valid', timestamp)\n",
        "  save_embeddings(df_test, 'test', timestamp)"
      ],
      "execution_count": 0,
      "outputs": []
    },
    {
      "cell_type": "code",
      "metadata": {
        "id": "OJlCXXxKdMwN",
        "colab_type": "code",
        "outputId": "0e15ca3a-fcb9-4a81-aa4f-990f7de1d9b2",
        "colab": {
          "base_uri": "https://localhost:8080/",
          "height": 34
        }
      },
      "source": [
        "df_valid.isna().sum().sum()"
      ],
      "execution_count": 24,
      "outputs": [
        {
          "output_type": "execute_result",
          "data": {
            "text/plain": [
              "0"
            ]
          },
          "metadata": {
            "tags": []
          },
          "execution_count": 24
        }
      ]
    },
    {
      "cell_type": "code",
      "metadata": {
        "id": "hMyw6GBes3UW",
        "colab_type": "code",
        "outputId": "7d1c2567-c4c3-481f-fe7f-64f3b3ca8427",
        "colab": {
          "base_uri": "https://localhost:8080/",
          "height": 119
        }
      },
      "source": [
        "if do_predict_test:\n",
        "  test_text = df_test['text'].tolist()\n",
        "  test_text = [' '.join(t.split()[0:150]) for t in test_text]\n",
        "  test_text = np.array(test_text, dtype=object)[:, np.newaxis]\n",
        "  y_test = df_test['male']\n",
        "  test_preds = model.predict(test_text)\n",
        "  print('Test set confusion matrix:')\n",
        "  print( confusion_matrix(y_test, (test_preds>.5)))\n",
        "  print('Test set F1 score: {}'.format(f1_score(y_test, test_preds>.5)))\n",
        "  print('Test set accuracy: {}'.format(accuracy_score(y_test, test_preds>.5)))\n",
        "  fpr, tpr, _ = roc_curve(y_test, test_preds)\n",
        "  print('Test set ROC AUC: {}'.format(auc(fpr, tpr)))"
      ],
      "execution_count": 25,
      "outputs": [
        {
          "output_type": "stream",
          "text": [
            "Test set confusion matrix:\n",
            "[[3205 2020]\n",
            " [1864 3361]]\n",
            "Test set F1 score: 0.6337921930982463\n",
            "Test set accuracy: 0.6283253588516746\n",
            "Test set ROC AUC: 0.6830504246697648\n"
          ],
          "name": "stdout"
        }
      ]
    },
    {
      "cell_type": "code",
      "metadata": {
        "id": "j3iXFVwznnhi",
        "colab_type": "code",
        "colab": {
          "base_uri": "https://localhost:8080/",
          "height": 312
        },
        "outputId": "de4b68c5-cd2e-42b0-8294-056e706c98f7"
      },
      "source": [
        "roc_auc = auc(fpr, tpr)\n",
        "\n",
        "plt.figure()\n",
        "plt.plot(fpr, tpr, color='darkorange',\n",
        "         lw=1, label='ROC curve (area = %0.3f)' % roc_auc)\n",
        "plt.plot([0, 1], [0, 1], color='navy', lw=1, linestyle='--')\n",
        "plt.xlim([0.0, 1.0])\n",
        "plt.ylim([0.0, 1.05])\n",
        "plt.xlabel('False Positive Rate')\n",
        "plt.ylabel('True Positive Rate')\n",
        "plt.title('Receiver operating characteristic curve')\n",
        "plt.legend(loc=\"lower right\")\n",
        "print('Test set ROC AUC: {}'.format(auc(fpr, tpr)))\n",
        "plt.show()"
      ],
      "execution_count": 26,
      "outputs": [
        {
          "output_type": "stream",
          "text": [
            "Test set ROC AUC: 0.6830504246697648\n"
          ],
          "name": "stdout"
        },
        {
          "output_type": "display_data",
          "data": {
            "image/png": "[encoded data removed]",
            "text/plain": [
              "<Figure size 432x288 with 1 Axes>"
            ]
          },
          "metadata": {
            "tags": []
          }
        }
      ]
    },
    {
      "cell_type": "code",
      "metadata": {
        "id": "NiyQFDcXoA46",
        "colab_type": "code",
        "colab": {
          "base_uri": "https://localhost:8080/",
          "height": 269
        },
        "outputId": "79f61bb4-4cf1-4152-aa52-1d4485c49842"
      },
      "source": [
        "predicted = test_preds.reshape(-1)\n",
        "pd.Series(predicted).hist()\n",
        "plt.show()"
      ],
      "execution_count": 27,
      "outputs": [
        {
          "output_type": "display_data",
          "data": {
            "image/png": "[encoded data removed]",
            "text/plain": [
              "<Figure size 432x288 with 1 Axes>"
            ]
          },
          "metadata": {
            "tags": []
          }
        }
      ]
    },
    {
      "cell_type": "code",
      "metadata": {
        "id": "lHUWAp2foI9h",
        "colab_type": "code",
        "colab": {
          "base_uri": "https://localhost:8080/",
          "height": 390
        },
        "outputId": "5ff1db4a-8543-4a58-8473-b9828487b573"
      },
      "source": [
        "df_acc = pd.DataFrame(columns=['minprob','maxprob','count','accuracy','lconf95','hconf95'])\n",
        "for pbot in np.linspace(0,.9,10):\n",
        "    ptop = pbot+.1\n",
        "    mask = (predicted>=pbot)&(predicted<ptop)\n",
        "    count = int(mask.sum())\n",
        "    if count>0:\n",
        "        actual = pd.Series(y_test)[mask].values\n",
        "        pred_prob = pd.Series(predicted)[mask].values\n",
        "        pred_bin = pred_prob>.5\n",
        "        acc = accuracy_score(actual, pred_bin)\n",
        "        nsucc = sum(actual==pred_bin)\n",
        "        confint = proportion_confint(nsucc, count)\n",
        "        minconf = confint[0]\n",
        "        maxconf = confint[1]\n",
        "    else:\n",
        "        acc = np.nan\n",
        "        minconf = np.nan\n",
        "        maxconf = np.nan\n",
        "    row = pd.DataFrame({'minprob':[pbot], 'maxprob':[ptop], 'count':[count], \n",
        "                        'accuracy':[acc], 'lconf95':[minconf], 'hconf95':[maxconf]})\n",
        "    df_acc = pd.concat([df_acc, row], sort=False)\n",
        "df_acc.set_index(['minprob','maxprob'])"
      ],
      "execution_count": 28,
      "outputs": [
        {
          "output_type": "execute_result",
          "data": {
            "text/html": [
              "<div>\n",
              "<style scoped>\n",
              "    .dataframe tbody tr th:only-of-type {\n",
              "        vertical-align: middle;\n",
              "    }\n",
              "\n",
              "    .dataframe tbody tr th {\n",
              "        vertical-align: top;\n",
              "    }\n",
              "\n",
              "    .dataframe thead th {\n",
              "        text-align: right;\n",
              "    }\n",
              "</style>\n",
              "<table border=\"1\" class=\"dataframe\">\n",
              "  <thead>\n",
              "    <tr style=\"text-align: right;\">\n",
              "      <th></th>\n",
              "      <th></th>\n",
              "      <th>count</th>\n",
              "      <th>accuracy</th>\n",
              "      <th>lconf95</th>\n",
              "      <th>hconf95</th>\n",
              "    </tr>\n",
              "    <tr>\n",
              "      <th>minprob</th>\n",
              "      <th>maxprob</th>\n",
              "      <th></th>\n",
              "      <th></th>\n",
              "      <th></th>\n",
              "      <th></th>\n",
              "    </tr>\n",
              "  </thead>\n",
              "  <tbody>\n",
              "    <tr>\n",
              "      <th>0.0</th>\n",
              "      <th>0.1</th>\n",
              "      <td>26</td>\n",
              "      <td>0.961538</td>\n",
              "      <td>0.887619</td>\n",
              "      <td>1.000000</td>\n",
              "    </tr>\n",
              "    <tr>\n",
              "      <th>0.1</th>\n",
              "      <th>0.2</th>\n",
              "      <td>302</td>\n",
              "      <td>0.867550</td>\n",
              "      <td>0.829318</td>\n",
              "      <td>0.905781</td>\n",
              "    </tr>\n",
              "    <tr>\n",
              "      <th>0.2</th>\n",
              "      <th>0.3</th>\n",
              "      <td>837</td>\n",
              "      <td>0.729988</td>\n",
              "      <td>0.699911</td>\n",
              "      <td>0.760065</td>\n",
              "    </tr>\n",
              "    <tr>\n",
              "      <th>0.3</th>\n",
              "      <th>0.4</th>\n",
              "      <td>1391</td>\n",
              "      <td>0.670022</td>\n",
              "      <td>0.645312</td>\n",
              "      <td>0.694732</td>\n",
              "    </tr>\n",
              "    <tr>\n",
              "      <th>0.4</th>\n",
              "      <th>0.5</th>\n",
              "      <td>2513</td>\n",
              "      <td>0.547155</td>\n",
              "      <td>0.527693</td>\n",
              "      <td>0.566617</td>\n",
              "    </tr>\n",
              "    <tr>\n",
              "      <th>0.5</th>\n",
              "      <th>0.6</th>\n",
              "      <td>2663</td>\n",
              "      <td>0.546001</td>\n",
              "      <td>0.527091</td>\n",
              "      <td>0.564911</td>\n",
              "    </tr>\n",
              "    <tr>\n",
              "      <th>0.6</th>\n",
              "      <th>0.7</th>\n",
              "      <td>1553</td>\n",
              "      <td>0.638764</td>\n",
              "      <td>0.614873</td>\n",
              "      <td>0.662654</td>\n",
              "    </tr>\n",
              "    <tr>\n",
              "      <th>0.7</th>\n",
              "      <th>0.8</th>\n",
              "      <td>688</td>\n",
              "      <td>0.735465</td>\n",
              "      <td>0.702506</td>\n",
              "      <td>0.768424</td>\n",
              "    </tr>\n",
              "    <tr>\n",
              "      <th>0.8</th>\n",
              "      <th>0.9</th>\n",
              "      <td>421</td>\n",
              "      <td>0.843230</td>\n",
              "      <td>0.808500</td>\n",
              "      <td>0.877961</td>\n",
              "    </tr>\n",
              "    <tr>\n",
              "      <th>0.9</th>\n",
              "      <th>1.0</th>\n",
              "      <td>56</td>\n",
              "      <td>0.964286</td>\n",
              "      <td>0.915681</td>\n",
              "      <td>1.000000</td>\n",
              "    </tr>\n",
              "  </tbody>\n",
              "</table>\n",
              "</div>"
            ],
            "text/plain": [
              "                count  accuracy   lconf95   hconf95\n",
              "minprob maxprob                                    \n",
              "0.0     0.1        26  0.961538  0.887619  1.000000\n",
              "0.1     0.2       302  0.867550  0.829318  0.905781\n",
              "0.2     0.3       837  0.729988  0.699911  0.760065\n",
              "0.3     0.4      1391  0.670022  0.645312  0.694732\n",
              "0.4     0.5      2513  0.547155  0.527693  0.566617\n",
              "0.5     0.6      2663  0.546001  0.527091  0.564911\n",
              "0.6     0.7      1553  0.638764  0.614873  0.662654\n",
              "0.7     0.8       688  0.735465  0.702506  0.768424\n",
              "0.8     0.9       421  0.843230  0.808500  0.877961\n",
              "0.9     1.0        56  0.964286  0.915681  1.000000"
            ]
          },
          "metadata": {
            "tags": []
          },
          "execution_count": 28
        }
      ]
    },
    {
      "cell_type": "code",
      "metadata": {
        "id": "N_xoGeWpxCZ6",
        "colab_type": "code",
        "colab": {
          "base_uri": "https://localhost:8080/",
          "height": 295
        },
        "outputId": "a56f3202-f454-4987-e735-82c0f2fe132f"
      },
      "source": [
        "df_acc['avgprob'] = .5*(df_acc.minprob+df_acc.maxprob)\n",
        "ax = df_acc.drop(['count','minprob','maxprob'],axis=1).set_index('avgprob').plot(\n",
        "        title='Accuracy of Predictions by Range')\n",
        "ax.legend(labels=['accuracy', '95% conf, lower', '95% conf, upper'])\n",
        "ax.set(xlabel=\"center of probability bin\", ylabel=\"fraction of correct predicitons\")\n",
        "plt.show()"
      ],
      "execution_count": 29,
      "outputs": [
        {
          "output_type": "display_data",
          "data": {
            "image/png": "[encoded data removed]",
            "text/plain": [
              "<Figure size 432x288 with 1 Axes>"
            ]
          },
          "metadata": {
            "tags": []
          }
        }
      ]
    },
    {
      "cell_type": "code",
      "metadata": {
        "id": "ec_smx1jTTC7",
        "colab_type": "code",
        "outputId": "e0dcef2c-fda7-402c-d53c-cfc6684817b7",
        "colab": {
          "base_uri": "https://localhost:8080/",
          "height": 34
        }
      },
      "source": [
        "model_file_name = 'not saved'\n",
        "if do_save_model:\n",
        "  model_file_name = basepath + 'USELModel_' + timestamp + '.h5'\n",
        "  !cp USELModel_full.h5 '$model_file_name'\n",
        "model_file_name"
      ],
      "execution_count": 30,
      "outputs": [
        {
          "output_type": "execute_result",
          "data": {
            "text/plain": [
              "'/content/gdrive/My Drive/twitgen/USELModel_201908071556.h5'"
            ]
          },
          "metadata": {
            "tags": []
          },
          "execution_count": 30
        }
      ]
    },
    {
      "cell_type": "code",
      "metadata": {
        "id": "QMZAIonXN6Wb",
        "colab_type": "code",
        "colab": {}
      },
      "source": [
        ""
      ],
      "execution_count": 0,
      "outputs": []
    }
  ]
}